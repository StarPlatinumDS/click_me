{
 "cells": [
  {
   "metadata": {},
   "cell_type": "markdown",
   "source": "#### Data is on Kaggle: https://www.kaggle.com/competitions/titanic/data",
   "id": "d7858efd5824a6ec"
  },
  {
   "metadata": {},
   "cell_type": "markdown",
   "source": "# Step 1: load libs & data",
   "id": "f0447cf09655c2c1"
  },
  {
   "cell_type": "code",
   "id": "initial_id",
   "metadata": {
    "collapsed": true,
    "ExecuteTime": {
     "end_time": "2025-06-29T17:32:17.223568Z",
     "start_time": "2025-06-29T17:32:16.560986Z"
    }
   },
   "source": [
    "import pandas as pd\n",
    "from catboost import CatBoostClassifier\n",
    "from sklearn.model_selection import train_test_split, RandomizedSearchCV\n",
    "from sklearn.metrics import accuracy_score, roc_auc_score\n",
    "\n",
    "train = pd.read_csv('../titanic/train.csv')\n",
    "test = pd.read_csv('../titanic/test.csv')"
   ],
   "outputs": [],
   "execution_count": 1
  },
  {
   "metadata": {},
   "cell_type": "markdown",
   "source": "# Step 2: preprocess",
   "id": "8187beec168c0ef9"
  },
  {
   "metadata": {
    "ExecuteTime": {
     "end_time": "2025-06-29T17:32:17.231885Z",
     "start_time": "2025-06-29T17:32:17.226351Z"
    }
   },
   "cell_type": "code",
   "source": [
    "for df in (train, test):\n",
    "    df['Age']= df['Age'].fillna(df['Age'].median())\n",
    "    df['Embarked'] = df['Embarked'].fillna('S')\n",
    "    df['Fare'] = df['Fare'].fillna(df['Fare'].median())\n",
    "    df['Title'] = df['Name'].str.extract(r' ([A-Za-z]+)\\.')\n",
    "    df['FamilySize'] = df['SibSp'] + df['Parch'] + 1\n",
    "\n",
    "features= ['Pclass','Sex','Age','Fare','Embarked','Title','FamilySize']\n",
    "cat_features = ['Pclass','Sex','Embarked','Title']\n",
    "X = train[features] \n",
    "y = train['Survived']\n",
    "X_test = test[features]"
   ],
   "id": "8d1727ddfc5593a9",
   "outputs": [],
   "execution_count": 2
  },
  {
   "metadata": {},
   "cell_type": "markdown",
   "source": "# Step 3: split, train & eval",
   "id": "1de82065260e6eeb"
  },
  {
   "metadata": {
    "ExecuteTime": {
     "end_time": "2025-06-29T17:33:37.595268Z",
     "start_time": "2025-06-29T17:33:36.266367Z"
    }
   },
   "cell_type": "code",
   "source": [
    "X_train, X_val, y_train, y_val = train_test_split(X, y, test_size=0.2, random_state=42)\n",
    "model = CatBoostClassifier(cat_features=cat_features, verbose=False)\n",
    "model.fit(X_train, y_train, eval_set=(X_val, y_val))\n",
    "pred = model.predict(X_val)\n",
    "print('Acc:', accuracy_score(y_val, pred),\n",
    "      'AUC:', roc_auc_score(y_val, model.predict_proba(X_val)[:,1]))"
   ],
   "id": "8883f46be9bdfd",
   "outputs": [
    {
     "name": "stdout",
     "output_type": "stream",
     "text": [
      "Acc: 0.8100558659217877 AUC: 0.8803088803088802\n"
     ]
    }
   ],
   "execution_count": 4
  },
  {
   "metadata": {},
   "cell_type": "markdown",
   "source": "# Step 4: hyperparam tuning",
   "id": "e11c4f1b8b9dcac6"
  },
  {
   "metadata": {
    "ExecuteTime": {
     "end_time": "2025-06-29T17:34:34.066812Z",
     "start_time": "2025-06-29T17:34:30.253648Z"
    }
   },
   "cell_type": "code",
   "source": [
    "param_grid = {\n",
    "    'iterations':[100, 200, 300],\n",
    "    'depth': [3, 5, 7],\n",
    "    'learning_rate': [0.01, 0.1, 0.2],\n",
    "    'l2_leaf_reg': [1, 3, 5]\n",
    "}\n",
    "rs = RandomizedSearchCV(\n",
    "    CatBoostClassifier(cat_features=cat_features, verbose=False),\n",
    "    param_grid, n_iter=10, cv=3,\n",
    "    scoring='roc_auc', random_state=42, n_jobs=-1\n",
    ")\n",
    "rs.fit(X, y)\n",
    "print(rs.best_params_, rs.best_score_)"
   ],
   "id": "8245737e4f9f5250",
   "outputs": [
    {
     "name": "stdout",
     "output_type": "stream",
     "text": [
      "{'learning_rate': 0.1, 'l2_leaf_reg': 3, 'iterations': 100, 'depth': 3} 0.8709935129262135\n"
     ]
    }
   ],
   "execution_count": 5
  },
  {
   "metadata": {},
   "cell_type": "markdown",
   "source": "# Step 5: final model & submission",
   "id": "e41e1afc96b559f0"
  },
  {
   "metadata": {
    "ExecuteTime": {
     "end_time": "2025-06-29T17:35:04.796317Z",
     "start_time": "2025-06-29T17:35:04.762559Z"
    }
   },
   "cell_type": "code",
   "source": [
    "best = rs.best_estimator_\n",
    "best.fit(X, y)\n",
    "submission = pd.DataFrame({\n",
    "    'PassengerId': test['PassengerId'],\n",
    "    'Survived':best.predict(X_test)\n",
    "})\n",
    "submission.to_csv('../submission_cat.csv', index=False)\n",
    "submission.head()"
   ],
   "id": "490118b17f0d75f1",
   "outputs": [
    {
     "data": {
      "text/plain": [
       "   PassengerId  Survived\n",
       "0          892         0\n",
       "1          893         1\n",
       "2          894         0\n",
       "3          895         0\n",
       "4          896         1"
      ],
      "text/html": [
       "<div>\n",
       "<style scoped>\n",
       "    .dataframe tbody tr th:only-of-type {\n",
       "        vertical-align: middle;\n",
       "    }\n",
       "\n",
       "    .dataframe tbody tr th {\n",
       "        vertical-align: top;\n",
       "    }\n",
       "\n",
       "    .dataframe thead th {\n",
       "        text-align: right;\n",
       "    }\n",
       "</style>\n",
       "<table border=\"1\" class=\"dataframe\">\n",
       "  <thead>\n",
       "    <tr style=\"text-align: right;\">\n",
       "      <th></th>\n",
       "      <th>PassengerId</th>\n",
       "      <th>Survived</th>\n",
       "    </tr>\n",
       "  </thead>\n",
       "  <tbody>\n",
       "    <tr>\n",
       "      <th>0</th>\n",
       "      <td>892</td>\n",
       "      <td>0</td>\n",
       "    </tr>\n",
       "    <tr>\n",
       "      <th>1</th>\n",
       "      <td>893</td>\n",
       "      <td>1</td>\n",
       "    </tr>\n",
       "    <tr>\n",
       "      <th>2</th>\n",
       "      <td>894</td>\n",
       "      <td>0</td>\n",
       "    </tr>\n",
       "    <tr>\n",
       "      <th>3</th>\n",
       "      <td>895</td>\n",
       "      <td>0</td>\n",
       "    </tr>\n",
       "    <tr>\n",
       "      <th>4</th>\n",
       "      <td>896</td>\n",
       "      <td>1</td>\n",
       "    </tr>\n",
       "  </tbody>\n",
       "</table>\n",
       "</div>"
      ]
     },
     "execution_count": 6,
     "metadata": {},
     "output_type": "execute_result"
    }
   ],
   "execution_count": 6
  },
  {
   "metadata": {},
   "cell_type": "code",
   "outputs": [],
   "execution_count": null,
   "source": "",
   "id": "edf44d794a56ee62"
  }
 ],
 "metadata": {
  "kernelspec": {
   "display_name": "Python 3",
   "language": "python",
   "name": "python3"
  },
  "language_info": {
   "codemirror_mode": {
    "name": "ipython",
    "version": 2
   },
   "file_extension": ".py",
   "mimetype": "text/x-python",
   "name": "python",
   "nbconvert_exporter": "python",
   "pygments_lexer": "ipython2",
   "version": "2.7.6"
  }
 },
 "nbformat": 4,
 "nbformat_minor": 5
}
