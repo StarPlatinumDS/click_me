{
 "cells": [
  {
   "metadata": {},
   "cell_type": "markdown",
   "source": "#### Data is here: https://www.kaggle.com/competitions/titanic/data",
   "id": "291b36539e2c660"
  },
  {
   "metadata": {},
   "cell_type": "markdown",
   "source": "# Step 1: Load libraries and dataset",
   "id": "f06b77022fdc5736"
  },
  {
   "cell_type": "code",
   "id": "initial_id",
   "metadata": {
    "collapsed": true,
    "ExecuteTime": {
     "end_time": "2025-06-29T17:01:34.441563Z",
     "start_time": "2025-06-29T17:01:33.577429Z"
    }
   },
   "source": [
    "import pandas as pd\n",
    "from sklearn.model_selection import train_test_split\n",
    "from sklearn.metrics import accuracy_score, roc_auc_score\n",
    "from sklearn.model_selection import RandomizedSearchCV\n",
    "from lightgbm import LGBMClassifier\n",
    "import warnings\n",
    "warnings.filterwarnings('ignore')\n",
    "\n",
    "train = pd.read_csv('../titanic/train.csv')\n",
    "test  = pd.read_csv('../titanic/test.csv')"
   ],
   "outputs": [],
   "execution_count": 1
  },
  {
   "metadata": {},
   "cell_type": "markdown",
   "source": "# Step 2: preprocess & feature-engineer",
   "id": "fbd8c1c6b0820293"
  },
  {
   "metadata": {
    "ExecuteTime": {
     "end_time": "2025-06-29T17:01:34.451279Z",
     "start_time": "2025-06-29T17:01:34.444076Z"
    }
   },
   "cell_type": "code",
   "source": [
    "# fill missing, extract features\n",
    "for df in (train, test):\n",
    "    df['Age'] = df['Age'].fillna(df['Age'].median())\n",
    "    df['Embarked'] = df['Embarked'].fillna('S')\n",
    "    df['Fare'] = df['Fare'].fillna(df['Fare'].median())\n",
    "    df['Title'] = df['Name'].str.extract(r' ([A-Za-z]+)\\.')\n",
    "    df['FamilySize'] = df['SibSp'] + df['Parch'] + 1\n",
    "    \n",
    "    \n",
    "# one‐hot encode\n",
    "cols = ['Pclass','Sex','Embarked','Title','FamilySize']\n",
    "all_df = pd.get_dummies(pd.concat([train[cols], test[cols]]), drop_first=True)\n",
    "X = all_df.iloc[:len(train)]\n",
    "X_test = all_df.iloc[len(train):]\n",
    "y = train['Survived']"
   ],
   "id": "9ddd4e2fbb32da6",
   "outputs": [],
   "execution_count": 2
  },
  {
   "metadata": {},
   "cell_type": "markdown",
   "source": "# Step 3: split, train & evaluate",
   "id": "764db2ecd25627ad"
  },
  {
   "metadata": {
    "ExecuteTime": {
     "end_time": "2025-06-29T17:01:34.544007Z",
     "start_time": "2025-06-29T17:01:34.503989Z"
    }
   },
   "cell_type": "code",
   "source": [
    "X_train, X_val, y_train, y_val = train_test_split(X, y, test_size=0.2, random_state=42)\n",
    "lgb = LGBMClassifier(verbose=-1, force_row_wise=True)\n",
    "lgb.fit(X_train, y_train)\n",
    "pred = lgb.predict(X_val)\n",
    "print('Acc:', accuracy_score(y_val, pred), 'AUC:', roc_auc_score(y_val, lgb.predict_proba(X_val)[:,1]))"
   ],
   "id": "5912992998a19734",
   "outputs": [
    {
     "name": "stdout",
     "output_type": "stream",
     "text": [
      "Acc: 0.7988826815642458 AUC: 0.8864221364221365\n"
     ]
    }
   ],
   "execution_count": 3
  },
  {
   "metadata": {},
   "cell_type": "markdown",
   "source": "# Step 4: hyperparameter tuning for LightGBM",
   "id": "2e38827881def77f"
  },
  {
   "metadata": {
    "ExecuteTime": {
     "end_time": "2025-06-29T17:02:10.193448Z",
     "start_time": "2025-06-29T17:02:04.477409Z"
    }
   },
   "cell_type": "code",
   "source": [
    "param_grid = {\n",
    "    'n_estimators': [100, 200, 300],\n",
    "    'max_depth': [3, 5, 7, -1],\n",
    "    'learning_rate': [0.01, 0.1, 0.2],\n",
    "    'num_leaves': [31, 50, 100],\n",
    "    'subsample': [0.6, 0.8, 1.0]\n",
    "}\n",
    "rs_lgb = RandomizedSearchCV(\n",
    "    LGBMClassifier(verbose=-1, force_row_wise=True),\n",
    "    param_grid, n_iter=10, cv=3,\n",
    "    scoring='roc_auc', random_state=42, n_jobs=-1\n",
    ")\n",
    "rs_lgb.fit(X, y)\n",
    "print(rs_lgb.best_params_, rs_lgb.best_score_)"
   ],
   "id": "c6db9e23a1388966",
   "outputs": [
    {
     "name": "stdout",
     "output_type": "stream",
     "text": [
      "{'subsample': 0.6, 'num_leaves': 31, 'n_estimators': 100, 'max_depth': 3, 'learning_rate': 0.1} 0.868133448375036\n"
     ]
    }
   ],
   "execution_count": 6
  },
  {
   "metadata": {},
   "cell_type": "markdown",
   "source": "# Step 5: train final LightGBM & create submission",
   "id": "671c8712e41099d7"
  },
  {
   "metadata": {
    "ExecuteTime": {
     "end_time": "2025-06-29T17:03:34.399540Z",
     "start_time": "2025-06-29T17:03:34.367262Z"
    }
   },
   "cell_type": "code",
   "source": [
    "best_lgb = rs_lgb.best_estimator_\n",
    "best_lgb.fit(X, y)\n",
    "submission = pd.DataFrame({\n",
    "    'PassengerId': test['PassengerId'],\n",
    "    'Survived': best_lgb.predict(X_test)\n",
    "})\n",
    "submission.to_csv('../submission_lgb.csv', index=False)\n",
    "submission.head()"
   ],
   "id": "87d8cfb16df47f6e",
   "outputs": [
    {
     "data": {
      "text/plain": [
       "   PassengerId  Survived\n",
       "0          892         0\n",
       "1          893         0\n",
       "2          894         0\n",
       "3          895         0\n",
       "4          896         0"
      ],
      "text/html": [
       "<div>\n",
       "<style scoped>\n",
       "    .dataframe tbody tr th:only-of-type {\n",
       "        vertical-align: middle;\n",
       "    }\n",
       "\n",
       "    .dataframe tbody tr th {\n",
       "        vertical-align: top;\n",
       "    }\n",
       "\n",
       "    .dataframe thead th {\n",
       "        text-align: right;\n",
       "    }\n",
       "</style>\n",
       "<table border=\"1\" class=\"dataframe\">\n",
       "  <thead>\n",
       "    <tr style=\"text-align: right;\">\n",
       "      <th></th>\n",
       "      <th>PassengerId</th>\n",
       "      <th>Survived</th>\n",
       "    </tr>\n",
       "  </thead>\n",
       "  <tbody>\n",
       "    <tr>\n",
       "      <th>0</th>\n",
       "      <td>892</td>\n",
       "      <td>0</td>\n",
       "    </tr>\n",
       "    <tr>\n",
       "      <th>1</th>\n",
       "      <td>893</td>\n",
       "      <td>0</td>\n",
       "    </tr>\n",
       "    <tr>\n",
       "      <th>2</th>\n",
       "      <td>894</td>\n",
       "      <td>0</td>\n",
       "    </tr>\n",
       "    <tr>\n",
       "      <th>3</th>\n",
       "      <td>895</td>\n",
       "      <td>0</td>\n",
       "    </tr>\n",
       "    <tr>\n",
       "      <th>4</th>\n",
       "      <td>896</td>\n",
       "      <td>0</td>\n",
       "    </tr>\n",
       "  </tbody>\n",
       "</table>\n",
       "</div>"
      ]
     },
     "execution_count": 7,
     "metadata": {},
     "output_type": "execute_result"
    }
   ],
   "execution_count": 7
  },
  {
   "metadata": {},
   "cell_type": "code",
   "outputs": [],
   "execution_count": null,
   "source": "",
   "id": "5e0490287a1514f6"
  }
 ],
 "metadata": {
  "kernelspec": {
   "display_name": "Python 3",
   "language": "python",
   "name": "python3"
  },
  "language_info": {
   "codemirror_mode": {
    "name": "ipython",
    "version": 2
   },
   "file_extension": ".py",
   "mimetype": "text/x-python",
   "name": "python",
   "nbconvert_exporter": "python",
   "pygments_lexer": "ipython2",
   "version": "2.7.6"
  }
 },
 "nbformat": 4,
 "nbformat_minor": 5
}
